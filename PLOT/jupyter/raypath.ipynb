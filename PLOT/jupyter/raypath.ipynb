{
 "metadata": {
  "language_info": {
   "codemirror_mode": {
    "name": "ipython",
    "version": 3
   },
   "file_extension": ".py",
   "mimetype": "text/x-python",
   "name": "python",
   "nbconvert_exporter": "python",
   "pygments_lexer": "ipython3",
   "version": "3.7.6"
  },
  "orig_nbformat": 2,
  "kernelspec": {
   "name": "python3",
   "display_name": "Python 3.7.6 64-bit ('seis': conda)"
  },
  "interpreter": {
   "hash": "0b7bd1de82cd1e56b22835396ee95955b10386fee70947216453f37cce8a9170"
  }
 },
 "nbformat": 4,
 "nbformat_minor": 2,
 "cells": [
  {
   "cell_type": "code",
   "execution_count": 1,
   "source": [
    "import os\n",
    "import numpy as np\n",
    "import matplotlib.pyplot as plt\n",
    "path = \"/mnt/home/jieyaqi/code/FMST/Shell_for_FMM/file\"\n",
    "sacfile = \"/mnt/ufs18/nodr/home/jieyaqi/east_africa/all_debias/sacfile.txt\""
   ],
   "outputs": [],
   "metadata": {}
  },
  {
   "cell_type": "code",
   "execution_count": 2,
   "source": [
    "def remove_null(a):\n",
    "    while '' in a:\n",
    "        a.remove('')\n",
    "    return a"
   ],
   "outputs": [],
   "metadata": {}
  },
  {
   "cell_type": "code",
   "execution_count": 3,
   "source": [
    "# get ccf dictionary\n",
    "with open(sacfile, 'r') as f:\n",
    "    ccfs = f.readlines()\n",
    "ccfdic = {ccf.strip().split(' ')[3]:ccf.split(' ')[2] for ccf in ccfs}"
   ],
   "outputs": [],
   "metadata": {}
  },
  {
   "cell_type": "code",
   "execution_count": 4,
   "source": [
    "# check ccf for period\n",
    "perlist = [5,7,9,13,17,21,25,29,33,37,41,45]\n",
    "I2 = []\n",
    "I3 = []\n",
    "for per in [5,7,9,13,17,21,25,29,33,37,41,45]:\n",
    "    ccffile = f'{path}/out_phase.{per}.dat'\n",
    "    print(ccffile)\n",
    "    I2num = 0\n",
    "    I3num = 0\n",
    "    with open(ccffile,'r') as f:\n",
    "        lines = f.readlines()\n",
    "        for line in lines:\n",
    "            ccf = remove_null(line.split(' '))[8]\n",
    "            if ccfdic[ccf] == 'I2':\n",
    "                I2num += 1\n",
    "            elif 'I3' in ccfdic[ccf]:\n",
    "                I3num += 1\n",
    "    I2.append(I2num)\n",
    "    I3.append(I3num)"
   ],
   "outputs": [
    {
     "output_type": "stream",
     "name": "stdout",
     "text": [
      "/mnt/home/jieyaqi/code/FMST/Shell_for_FMM/file/out_phase.5.dat\n",
      "/mnt/home/jieyaqi/code/FMST/Shell_for_FMM/file/out_phase.7.dat\n",
      "/mnt/home/jieyaqi/code/FMST/Shell_for_FMM/file/out_phase.9.dat\n",
      "/mnt/home/jieyaqi/code/FMST/Shell_for_FMM/file/out_phase.13.dat\n",
      "/mnt/home/jieyaqi/code/FMST/Shell_for_FMM/file/out_phase.17.dat\n",
      "/mnt/home/jieyaqi/code/FMST/Shell_for_FMM/file/out_phase.21.dat\n",
      "/mnt/home/jieyaqi/code/FMST/Shell_for_FMM/file/out_phase.25.dat\n",
      "/mnt/home/jieyaqi/code/FMST/Shell_for_FMM/file/out_phase.29.dat\n",
      "/mnt/home/jieyaqi/code/FMST/Shell_for_FMM/file/out_phase.33.dat\n",
      "/mnt/home/jieyaqi/code/FMST/Shell_for_FMM/file/out_phase.37.dat\n",
      "/mnt/home/jieyaqi/code/FMST/Shell_for_FMM/file/out_phase.41.dat\n",
      "/mnt/home/jieyaqi/code/FMST/Shell_for_FMM/file/out_phase.45.dat\n"
     ]
    }
   ],
   "metadata": {}
  },
  {
   "cell_type": "code",
   "execution_count": 5,
   "source": [
    "total = []\n",
    "for i in range(len(I2)):\n",
    "    total.append(I2[i]+I3[i])"
   ],
   "outputs": [],
   "metadata": {}
  },
  {
   "cell_type": "code",
   "execution_count": 6,
   "source": [
    "total"
   ],
   "outputs": [
    {
     "output_type": "execute_result",
     "data": {
      "text/plain": [
       "[4348, 6207, 6562, 7104, 5454, 4536, 3714, 2940, 2311, 1766, 1342, 928]"
      ]
     },
     "metadata": {},
     "execution_count": 6
    }
   ],
   "metadata": {}
  },
  {
   "cell_type": "code",
   "execution_count": 8,
   "source": [
    "plt.figure(figsize=[4,3])\n",
    "plt.bar(range(12), I2, label='# I2 CCFs', edgecolor='black', linewidth=0.5, color=\"#4E90B1\")\n",
    "plt.bar(range(12), I3, bottom=I2, label='# I3 CCFs', edgecolor='black', linewidth=0.5, color=\"#BDA065\")\n",
    "plt.xticks(range(12), perlist)\n",
    "plt.xlim([-0.4,11.4])\n",
    "plt.ylim([0,7500])\n",
    "plt.tick_params(top='on', right='on')\n",
    "plt.legend()\n",
    "plt.savefig(\"/mnt/home/jieyaqi/Documents/plot/raynumber.pdf\")"
   ],
   "outputs": [
    {
     "output_type": "display_data",
     "data": {
      "text/plain": [
       "<Figure size 288x216 with 1 Axes>"
      ],
      "image/png": "[encoded data removed]"
     },
     "metadata": {
      "needs_background": "light"
     }
    }
   ],
   "metadata": {}
  },
  {
   "cell_type": "code",
   "execution_count": null,
   "source": [],
   "outputs": [],
   "metadata": {}
  }
 ]
}