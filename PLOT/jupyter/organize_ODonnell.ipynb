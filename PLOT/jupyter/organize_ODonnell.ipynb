{
 "metadata": {
  "language_info": {
   "codemirror_mode": {
    "name": "ipython",
    "version": 3
   },
   "file_extension": ".py",
   "mimetype": "text/x-python",
   "name": "python",
   "nbconvert_exporter": "python",
   "pygments_lexer": "ipython3",
   "version": "3.8.6"
  },
  "orig_nbformat": 4,
  "kernelspec": {
   "name": "python3",
   "display_name": "Python 3.8.6 64-bit ('PyJI': conda)"
  },
  "interpreter": {
   "hash": "d09b2169950cc17fddee54ac2842a527fe1c222719ee47f31fb8f33a19f76d65"
  }
 },
 "nbformat": 4,
 "nbformat_minor": 2,
 "cells": [
  {
   "cell_type": "code",
   "execution_count": 45,
   "metadata": {},
   "outputs": [],
   "source": [
    "profilefile = '/mnt/home/jieyaqi/Documents/FinalModels/ShearVelocities/Vs_node_profiles.xyz'\n",
    "coordfile = '/mnt/home/jieyaqi/Documents/FinalModels/ShearVelocities/node_coords_all.xyz'"
   ]
  },
  {
   "cell_type": "code",
   "execution_count": 29,
   "metadata": {},
   "outputs": [],
   "source": [
    "def remove_(a):\n",
    "    while '' in a:\n",
    "        a.remove('')\n",
    "    return a"
   ]
  },
  {
   "cell_type": "code",
   "execution_count": 42,
   "metadata": {},
   "outputs": [],
   "source": [
    "# read file\n",
    "with open(profilefile, 'r') as f:\n",
    "    lines = f.readlines()\n",
    "    lines = [i[0:-1] for i in lines]\n",
    "\n",
    "i = 0\n",
    "nodes = {}\n",
    "while i < len(lines):\n",
    "    if 'error' in lines[i]:\n",
    "        pass\n",
    "    elif 'node' in lines[i]:\n",
    "        node = lines[i]\n",
    "        nodes[node] = [[],[]]\n",
    "    elif lines[i] == '':\n",
    "        pass\n",
    "    else:\n",
    "        line = remove_(lines[i].split(' '))\n",
    "        nodes[node][0].append(float(line[0]))\n",
    "        nodes[node][1].append(float(line[1]))\n",
    "    i = i+1"
   ]
  },
  {
   "cell_type": "code",
   "execution_count": 48,
   "metadata": {},
   "outputs": [],
   "source": [
    "# read coordinates\n",
    "with open(coordfile,'r') as f:\n",
    "    nodescor = {}\n",
    "    line = f.readline()\n",
    "    while line:\n",
    "        line = remove_(line.split(' '))\n",
    "        nodescor[line[0]]=[float(line[0]), float(line[1])]\n",
    "        line = f.readline()"
   ]
  },
  {
   "cell_type": "code",
   "execution_count": null,
   "metadata": {},
   "outputs": [],
   "source": [
    "# do averaging\n",
    "num = 0\n",
    "profile_all = [0】*196\n",
    "for node in nodes.keys():\n",
    "    coo = nodescor[node.split('_')[1]]\n",
    "    if coo[0]>= -15 and coo[0]<=4 and coo[1]>=25 and coo[1]<=40:\n",
    "        num += 1\n",
    "        profile_all = [profile_all[i] + nodes[node][0][i] for i in range(196)]\n"
   ]
  }
 ]
}